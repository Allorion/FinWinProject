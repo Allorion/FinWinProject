{
  "cells": [
    {
      "cell_type": "code",
      "execution_count": null,
      "metadata": {
        "colab": {
          "base_uri": "https://localhost:8080/",
          "height": 437
        },
        "id": "lbRL5RHfYjLF",
        "outputId": "a5df6771-f4f4-4051-ac72-613cf3160e64"
      },
      "outputs": [
        {
          "name": "stderr",
          "output_type": "stream",
          "text": [
            "/usr/local/lib/python3.7/dist-packages/ipykernel_launcher.py:20: PerformanceWarning: DataFrame is highly fragmented.  This is usually the result of calling `frame.insert` many times, which has poor performance.  Consider joining all columns at once using pd.concat(axis=1) instead.  To get a de-fragmented frame, use `newframe = frame.copy()`\n"
          ]
        },
        {
          "ename": "KeyboardInterrupt",
          "evalue": "ignored",
          "output_type": "error",
          "traceback": [
            "\u001b[0;31m---------------------------------------------------------------------------\u001b[0m",
            "\u001b[0;31mKeyboardInterrupt\u001b[0m                         Traceback (most recent call last)",
            "\u001b[0;32m<ipython-input-21-9d9a03877600>\u001b[0m in \u001b[0;36m<module>\u001b[0;34m\u001b[0m\n\u001b[1;32m     32\u001b[0m             \u001b[0mnew_rent\u001b[0m\u001b[0;34m[\u001b[0m\u001b[0mphone\u001b[0m\u001b[0;34m]\u001b[0m\u001b[0;34m[\u001b[0m\u001b[0mdate_rent\u001b[0m\u001b[0;34m]\u001b[0m \u001b[0;34m=\u001b[0m \u001b[0;36m1\u001b[0m\u001b[0;34m\u001b[0m\u001b[0;34m\u001b[0m\u001b[0m\n\u001b[1;32m     33\u001b[0m         \u001b[0;32melse\u001b[0m\u001b[0;34m:\u001b[0m\u001b[0;34m\u001b[0m\u001b[0;34m\u001b[0m\u001b[0m\n\u001b[0;32m---> 34\u001b[0;31m             \u001b[0mnew_rent\u001b[0m\u001b[0;34m[\u001b[0m\u001b[0mphone\u001b[0m\u001b[0;34m]\u001b[0m\u001b[0;34m[\u001b[0m\u001b[0mdate_rent\u001b[0m\u001b[0;34m]\u001b[0m \u001b[0;34m=\u001b[0m \u001b[0;36m0\u001b[0m\u001b[0;34m\u001b[0m\u001b[0;34m\u001b[0m\u001b[0m\n\u001b[0m\u001b[1;32m     35\u001b[0m         \u001b[0;31m# new_rent[phone][date_rent] = user_df[user_df.loc[user_df.index == date_rent]].loc[user_df['phone'] == phone]\u001b[0m\u001b[0;34m\u001b[0m\u001b[0;34m\u001b[0m\u001b[0;34m\u001b[0m\u001b[0m\n\u001b[1;32m     36\u001b[0m     \u001b[0;31m# p = pd.Period(date_rent)\u001b[0m\u001b[0;34m\u001b[0m\u001b[0;34m\u001b[0m\u001b[0;34m\u001b[0m\u001b[0m\n",
            "\u001b[0;32m/usr/local/lib/python3.7/dist-packages/pandas/core/series.py\u001b[0m in \u001b[0;36m__setitem__\u001b[0;34m(self, key, value)\u001b[0m\n\u001b[1;32m   1054\u001b[0m     \u001b[0;32mdef\u001b[0m \u001b[0m__setitem__\u001b[0m\u001b[0;34m(\u001b[0m\u001b[0mself\u001b[0m\u001b[0;34m,\u001b[0m \u001b[0mkey\u001b[0m\u001b[0;34m,\u001b[0m \u001b[0mvalue\u001b[0m\u001b[0;34m)\u001b[0m \u001b[0;34m->\u001b[0m \u001b[0;32mNone\u001b[0m\u001b[0;34m:\u001b[0m\u001b[0;34m\u001b[0m\u001b[0;34m\u001b[0m\u001b[0m\n\u001b[1;32m   1055\u001b[0m         \u001b[0mkey\u001b[0m \u001b[0;34m=\u001b[0m \u001b[0mcom\u001b[0m\u001b[0;34m.\u001b[0m\u001b[0mapply_if_callable\u001b[0m\u001b[0;34m(\u001b[0m\u001b[0mkey\u001b[0m\u001b[0;34m,\u001b[0m \u001b[0mself\u001b[0m\u001b[0;34m)\u001b[0m\u001b[0;34m\u001b[0m\u001b[0;34m\u001b[0m\u001b[0m\n\u001b[0;32m-> 1056\u001b[0;31m         \u001b[0mcacher_needs_updating\u001b[0m \u001b[0;34m=\u001b[0m \u001b[0mself\u001b[0m\u001b[0;34m.\u001b[0m\u001b[0m_check_is_chained_assignment_possible\u001b[0m\u001b[0;34m(\u001b[0m\u001b[0;34m)\u001b[0m\u001b[0;34m\u001b[0m\u001b[0;34m\u001b[0m\u001b[0m\n\u001b[0m\u001b[1;32m   1057\u001b[0m \u001b[0;34m\u001b[0m\u001b[0m\n\u001b[1;32m   1058\u001b[0m         \u001b[0;32mif\u001b[0m \u001b[0mkey\u001b[0m \u001b[0;32mis\u001b[0m \u001b[0mEllipsis\u001b[0m\u001b[0;34m:\u001b[0m\u001b[0;34m\u001b[0m\u001b[0;34m\u001b[0m\u001b[0m\n",
            "\u001b[0;32m/usr/local/lib/python3.7/dist-packages/pandas/core/series.py\u001b[0m in \u001b[0;36m_check_is_chained_assignment_possible\u001b[0;34m(self)\u001b[0m\n\u001b[1;32m   1209\u001b[0m         \u001b[0;32mif\u001b[0m \u001b[0mself\u001b[0m\u001b[0;34m.\u001b[0m\u001b[0m_is_view\u001b[0m \u001b[0;32mand\u001b[0m \u001b[0mself\u001b[0m\u001b[0;34m.\u001b[0m\u001b[0m_is_cached\u001b[0m\u001b[0;34m:\u001b[0m\u001b[0;34m\u001b[0m\u001b[0;34m\u001b[0m\u001b[0m\n\u001b[1;32m   1210\u001b[0m             \u001b[0mref\u001b[0m \u001b[0;34m=\u001b[0m \u001b[0mself\u001b[0m\u001b[0;34m.\u001b[0m\u001b[0m_get_cacher\u001b[0m\u001b[0;34m(\u001b[0m\u001b[0;34m)\u001b[0m\u001b[0;34m\u001b[0m\u001b[0;34m\u001b[0m\u001b[0m\n\u001b[0;32m-> 1211\u001b[0;31m             \u001b[0;32mif\u001b[0m \u001b[0mref\u001b[0m \u001b[0;32mis\u001b[0m \u001b[0;32mnot\u001b[0m \u001b[0;32mNone\u001b[0m \u001b[0;32mand\u001b[0m \u001b[0mref\u001b[0m\u001b[0;34m.\u001b[0m\u001b[0m_is_mixed_type\u001b[0m\u001b[0;34m:\u001b[0m\u001b[0;34m\u001b[0m\u001b[0;34m\u001b[0m\u001b[0m\n\u001b[0m\u001b[1;32m   1212\u001b[0m                 \u001b[0mself\u001b[0m\u001b[0;34m.\u001b[0m\u001b[0m_check_setitem_copy\u001b[0m\u001b[0;34m(\u001b[0m\u001b[0mstacklevel\u001b[0m\u001b[0;34m=\u001b[0m\u001b[0;36m4\u001b[0m\u001b[0;34m,\u001b[0m \u001b[0mt\u001b[0m\u001b[0;34m=\u001b[0m\u001b[0;34m\"referent\"\u001b[0m\u001b[0;34m,\u001b[0m \u001b[0mforce\u001b[0m\u001b[0;34m=\u001b[0m\u001b[0;32mTrue\u001b[0m\u001b[0;34m)\u001b[0m\u001b[0;34m\u001b[0m\u001b[0;34m\u001b[0m\u001b[0m\n\u001b[1;32m   1213\u001b[0m             \u001b[0;32mreturn\u001b[0m \u001b[0;32mTrue\u001b[0m\u001b[0;34m\u001b[0m\u001b[0;34m\u001b[0m\u001b[0m\n",
            "\u001b[0;32m/usr/local/lib/python3.7/dist-packages/pandas/core/generic.py\u001b[0m in \u001b[0;36m_is_mixed_type\u001b[0;34m(self)\u001b[0m\n\u001b[1;32m   5590\u001b[0m             \u001b[0;32mreturn\u001b[0m \u001b[0;32mTrue\u001b[0m\u001b[0;34m\u001b[0m\u001b[0;34m\u001b[0m\u001b[0m\n\u001b[1;32m   5591\u001b[0m \u001b[0;34m\u001b[0m\u001b[0m\n\u001b[0;32m-> 5592\u001b[0;31m         \u001b[0;32mreturn\u001b[0m \u001b[0mself\u001b[0m\u001b[0;34m.\u001b[0m\u001b[0mdtypes\u001b[0m\u001b[0;34m.\u001b[0m\u001b[0mnunique\u001b[0m\u001b[0;34m(\u001b[0m\u001b[0;34m)\u001b[0m \u001b[0;34m>\u001b[0m \u001b[0;36m1\u001b[0m\u001b[0;34m\u001b[0m\u001b[0;34m\u001b[0m\u001b[0m\n\u001b[0m\u001b[1;32m   5593\u001b[0m \u001b[0;34m\u001b[0m\u001b[0m\n\u001b[1;32m   5594\u001b[0m     \u001b[0;34m@\u001b[0m\u001b[0mfinal\u001b[0m\u001b[0;34m\u001b[0m\u001b[0;34m\u001b[0m\u001b[0m\n",
            "\u001b[0;32m/usr/local/lib/python3.7/dist-packages/pandas/core/generic.py\u001b[0m in \u001b[0;36mdtypes\u001b[0;34m(self)\u001b[0m\n\u001b[1;32m   5656\u001b[0m         \u001b[0mdtype\u001b[0m\u001b[0;34m:\u001b[0m \u001b[0mobject\u001b[0m\u001b[0;34m\u001b[0m\u001b[0;34m\u001b[0m\u001b[0m\n\u001b[1;32m   5657\u001b[0m         \"\"\"\n\u001b[0;32m-> 5658\u001b[0;31m         \u001b[0mdata\u001b[0m \u001b[0;34m=\u001b[0m \u001b[0mself\u001b[0m\u001b[0;34m.\u001b[0m\u001b[0m_mgr\u001b[0m\u001b[0;34m.\u001b[0m\u001b[0mget_dtypes\u001b[0m\u001b[0;34m(\u001b[0m\u001b[0;34m)\u001b[0m\u001b[0;34m\u001b[0m\u001b[0;34m\u001b[0m\u001b[0m\n\u001b[0m\u001b[1;32m   5659\u001b[0m         \u001b[0;32mreturn\u001b[0m \u001b[0mself\u001b[0m\u001b[0;34m.\u001b[0m\u001b[0m_constructor_sliced\u001b[0m\u001b[0;34m(\u001b[0m\u001b[0mdata\u001b[0m\u001b[0;34m,\u001b[0m \u001b[0mindex\u001b[0m\u001b[0;34m=\u001b[0m\u001b[0mself\u001b[0m\u001b[0;34m.\u001b[0m\u001b[0m_info_axis\u001b[0m\u001b[0;34m,\u001b[0m \u001b[0mdtype\u001b[0m\u001b[0;34m=\u001b[0m\u001b[0mnp\u001b[0m\u001b[0;34m.\u001b[0m\u001b[0mobject_\u001b[0m\u001b[0;34m)\u001b[0m\u001b[0;34m\u001b[0m\u001b[0;34m\u001b[0m\u001b[0m\n\u001b[1;32m   5660\u001b[0m \u001b[0;34m\u001b[0m\u001b[0m\n",
            "\u001b[0;32m/usr/local/lib/python3.7/dist-packages/pandas/core/internals/managers.py\u001b[0m in \u001b[0;36mget_dtypes\u001b[0;34m(self)\u001b[0m\n\u001b[1;32m    248\u001b[0m \u001b[0;34m\u001b[0m\u001b[0m\n\u001b[1;32m    249\u001b[0m     \u001b[0;32mdef\u001b[0m \u001b[0mget_dtypes\u001b[0m\u001b[0;34m(\u001b[0m\u001b[0mself\u001b[0m\u001b[0;34m)\u001b[0m\u001b[0;34m:\u001b[0m\u001b[0;34m\u001b[0m\u001b[0;34m\u001b[0m\u001b[0m\n\u001b[0;32m--> 250\u001b[0;31m         \u001b[0mdtypes\u001b[0m \u001b[0;34m=\u001b[0m \u001b[0mnp\u001b[0m\u001b[0;34m.\u001b[0m\u001b[0marray\u001b[0m\u001b[0;34m(\u001b[0m\u001b[0;34m[\u001b[0m\u001b[0mblk\u001b[0m\u001b[0;34m.\u001b[0m\u001b[0mdtype\u001b[0m \u001b[0;32mfor\u001b[0m \u001b[0mblk\u001b[0m \u001b[0;32min\u001b[0m \u001b[0mself\u001b[0m\u001b[0;34m.\u001b[0m\u001b[0mblocks\u001b[0m\u001b[0;34m]\u001b[0m\u001b[0;34m)\u001b[0m\u001b[0;34m\u001b[0m\u001b[0;34m\u001b[0m\u001b[0m\n\u001b[0m\u001b[1;32m    251\u001b[0m         \u001b[0;32mreturn\u001b[0m \u001b[0mdtypes\u001b[0m\u001b[0;34m.\u001b[0m\u001b[0mtake\u001b[0m\u001b[0;34m(\u001b[0m\u001b[0mself\u001b[0m\u001b[0;34m.\u001b[0m\u001b[0mblknos\u001b[0m\u001b[0;34m)\u001b[0m\u001b[0;34m\u001b[0m\u001b[0;34m\u001b[0m\u001b[0m\n\u001b[1;32m    252\u001b[0m \u001b[0;34m\u001b[0m\u001b[0m\n",
            "\u001b[0;31mKeyboardInterrupt\u001b[0m: "
          ]
        }
      ],
      "source": [
        "import pandas as pd\n",
        "user_df = pd.read_csv(\"user_351715.csv\")\n",
        "user_df.set_index('date', inplace=True) \n",
        "user_df.index = pd.to_datetime(user_df.index) \n",
        "# user_df.index = user_df.index.to_period('M') \n",
        "phones = pd.unique(user_df.phone) \n",
        "new_rent = pd.DataFrame() \n",
        "uniq_date_list = user_df.index.unique() \n",
        "new_rent['uniq_date'] = uniq_date_list \n",
        "new_rent.set_index('uniq_date', inplace=True) \n",
        "# new_rent['count'] = 0 \n",
        "# new_rent['days_in_month'] = 0 \n",
        " \n",
        "new_rent['year'] = new_rent.index.year.astype(int) \n",
        "new_rent['month'] = new_rent.index.month.astype(int) \n",
        "new_rent['day'] = new_rent.index.day.astype(int) \n",
        "new_rent['dayofweek'] = new_rent.index.dayofweek \n",
        " \n",
        "for i in phones: \n",
        "    new_rent[i]=0 \n",
        "for date_rent in uniq_date_list: \n",
        " \n",
        "    # print(user_df.loc[user_df.index == date_rent, 'phone']) \n",
        "    # print(date_rent) \n",
        "    for phone in phones: \n",
        "        # print(phone) \n",
        "     \n",
        "         \n",
        "        # print(phone) \n",
        "        # print(user_df.loc[user_df.index == date_rent, 'phone'].to_list()) \n",
        "        if phone in user_df.loc[user_df.index == date_rent, 'phone'].to_list(): \n",
        "            new_rent[phone][date_rent] = 1 \n",
        "        else: \n",
        "            new_rent[phone][date_rent] = 0 \n",
        "        # new_rent[phone][date_rent] = user_df[user_df.loc[user_df.index == date_rent]].loc[user_df['phone'] == phone] \n",
        "    # p = pd.Period(date_rent) \n",
        "    # new_rent['days_in_month'][date_rent] /= p.days_in_month \n",
        "new_rent = new_rent.sort_index() \n",
        "# new_rent.to_csv('test.csv') "
      ]
    },
    {
      "cell_type": "code",
      "execution_count": 2,
      "metadata": {
        "colab": {
          "base_uri": "https://localhost:8080/",
          "height": 488
        },
        "id": "w-XVJa2PxU4Q",
        "outputId": "2803364e-56b0-4530-8249-5f109c2e037d"
      },
      "outputs": [
        {
          "ename": "",
          "evalue": "",
          "output_type": "error",
          "traceback": [
            "\u001b[1;31mCanceled future for execute_request message before replies were done"
          ]
        },
        {
          "ename": "",
          "evalue": "",
          "output_type": "error",
          "traceback": [
            "\u001b[1;31mПри выполнении кода в текущей ячейке или предыдущей ячейке ядро аварийно завершило работу. Проверьте код в ячейках, чтобы определить возможную причину сбоя. Щелкните <a href=\"https://aka.ms/vscodeJupyterKernelCrash\">здесь</a> для получения дополнительных сведений. Подробнее см. в <a href='command:jupyter.viewOutput'>журнале Jupyter</a>."
          ]
        }
      ],
      "source": [
        "import pandas as pd\n",
        "pd.read_csv(\"test_334850.csv\")"
      ]
    },
    {
      "cell_type": "code",
      "execution_count": 1,
      "metadata": {
        "colab": {
          "base_uri": "https://localhost:8080/"
        },
        "id": "pq6wmMqCCG8E",
        "outputId": "8933ebf6-1fec-45f7-d2a5-a4ab0b28887a"
      },
      "outputs": [
        {
          "name": "stdout",
          "output_type": "stream",
          "text": [
            "(162, 1356)\n",
            "[[[1 1 1 ... 0 0 0]]\n",
            "\n",
            " [[0 0 0 ... 0 0 0]]\n",
            "\n",
            " [[0 0 0 ... 0 0 0]]\n",
            "\n",
            " ...\n",
            "\n",
            " [[0 0 0 ... 0 0 0]]\n",
            "\n",
            " [[0 0 0 ... 0 0 0]]\n",
            "\n",
            " [[0 0 0 ... 0 0 0]]]\n"
          ]
        }
      ],
      "source": [
        "import pandas as pd\n",
        "\n",
        "df = pd.read_csv(\"test_334850.csv\")\n",
        "new_rent = df.loc[:, df.columns != 'uniq_date']\n",
        "X_train = new_rent.loc[:, 'year':'dayofweek'][:-1] \n",
        " \n",
        "X_test = new_rent.loc[:,'year':'dayofweek'][-1:] \n",
        " \n",
        "y_train = new_rent.loc[:, 'dayofweek':][:-1] \n",
        "y_test = new_rent.loc[:, 'dayofweek':][-1:]\n",
        "y_train = y_train.loc[:, y_train.columns!='dayofweek']\n",
        "y_test = y_test.loc[:, y_test.columns!='dayofweek']\n",
        "seq_in = X_train.to_numpy()\n",
        "seq_in = seq_in.reshape(X_train.shape[0], 1, 4)\n",
        "seq_out = y_train.to_numpy()\n",
        "print(seq_out.shape)\n",
        "seq_out = seq_out.reshape(X_train.shape[0], 1, y_train.shape[1])\n",
        "print(seq_out)"
      ]
    },
    {
      "cell_type": "code",
      "execution_count": null,
      "metadata": {
        "colab": {
          "base_uri": "https://localhost:8080/",
          "height": 533
        },
        "id": "6bctGyExTxzh",
        "outputId": "eaf16825-9523-48b4-bb0b-f9c3d124330d"
      },
      "outputs": [
        {
          "data": {
            "image/png": "[encoded data removed]",
            "text/plain": [
              "<IPython.core.display.Image object>"
            ]
          },
          "execution_count": 307,
          "metadata": {},
          "output_type": "execute_result"
        }
      ],
      "source": [
        "# # lstm autoencoder predict sequence\n",
        "# import tensorflow as tf\n",
        "# from numpy import array\n",
        "# from keras.models import Sequential\n",
        "# from keras.layers import LSTM\n",
        "# from keras.layers import Dense\n",
        "# from keras.layers import RepeatVector\n",
        "# from keras.layers import TimeDistributed\n",
        "# from keras.utils import plot_model\n",
        "# # define input sequence\n",
        "# # seq_in = array([[1, 2, 1, 30, 100, 0, 0], [2, 4, 2, 60, 0, 0, 100], [1, 2, 1, 30, 100, 0, 0], [10, 20, 10, 300, 0, 100, 0], [2, 4, 2, 60, 0, 0, 100]])\n",
        "# # reshape input into [samples, timesteps, features]\n",
        "# # n_in = len(df_np)\n",
        "# # seq_in = seq_in.reshape((5, 1, 7))\n",
        "# # prepare output sequence\n",
        "# # define model\n",
        "# model = Sequential()\n",
        "# model.add(LSTM(20, activation='relu', input_shape=(1,4)))\n",
        "# model.add(RepeatVector(152))\n",
        "# model.add(LSTM(20, activation='relu', return_sequences=True))\n",
        "# model.add(Dense(1))\n",
        "# model.compile(optimizer='adam', loss='mse')\n",
        "# plot_model(model, show_shapes=True, to_file='predict_lstm_autoencoder.png')\n",
        "\n",
        "# tf.keras.utils.plot_model(model, to_file=\"model.png\", show_shapes=True)\n"
      ]
    },
    {
      "cell_type": "code",
      "execution_count": null,
      "metadata": {
        "colab": {
          "base_uri": "https://localhost:8080/",
          "height": 348
        },
        "id": "OqA_SBz8jBtK",
        "outputId": "8b9278c1-bd00-46f0-a171-4aaceea5d682"
      },
      "outputs": [
        {
          "ename": "KeyboardInterrupt",
          "evalue": "ignored",
          "output_type": "error",
          "traceback": [
            "\u001b[0;31m---------------------------------------------------------------------------\u001b[0m",
            "\u001b[0;31mKeyboardInterrupt\u001b[0m                         Traceback (most recent call last)",
            "\u001b[0;32m<ipython-input-308-6ec17a932881>\u001b[0m in \u001b[0;36m<module>\u001b[0;34m\u001b[0m\n\u001b[1;32m      1\u001b[0m \u001b[0;31m# fit model\u001b[0m\u001b[0;34m\u001b[0m\u001b[0;34m\u001b[0m\u001b[0;34m\u001b[0m\u001b[0m\n\u001b[0;32m----> 2\u001b[0;31m \u001b[0mmodel\u001b[0m\u001b[0;34m.\u001b[0m\u001b[0mfit\u001b[0m\u001b[0;34m(\u001b[0m\u001b[0mseq_in\u001b[0m\u001b[0;34m,\u001b[0m \u001b[0mseq_out\u001b[0m\u001b[0;34m,\u001b[0m \u001b[0mepochs\u001b[0m\u001b[0;34m=\u001b[0m\u001b[0;36m100\u001b[0m\u001b[0;34m,\u001b[0m \u001b[0mverbose\u001b[0m\u001b[0;34m=\u001b[0m\u001b[0;36m0\u001b[0m\u001b[0;34m)\u001b[0m\u001b[0;34m\u001b[0m\u001b[0;34m\u001b[0m\u001b[0m\n\u001b[0m",
            "\u001b[0;32m/usr/local/lib/python3.7/dist-packages/keras/utils/traceback_utils.py\u001b[0m in \u001b[0;36merror_handler\u001b[0;34m(*args, **kwargs)\u001b[0m\n\u001b[1;32m     62\u001b[0m     \u001b[0mfiltered_tb\u001b[0m \u001b[0;34m=\u001b[0m \u001b[0;32mNone\u001b[0m\u001b[0;34m\u001b[0m\u001b[0;34m\u001b[0m\u001b[0m\n\u001b[1;32m     63\u001b[0m     \u001b[0;32mtry\u001b[0m\u001b[0;34m:\u001b[0m\u001b[0;34m\u001b[0m\u001b[0;34m\u001b[0m\u001b[0m\n\u001b[0;32m---> 64\u001b[0;31m       \u001b[0;32mreturn\u001b[0m \u001b[0mfn\u001b[0m\u001b[0;34m(\u001b[0m\u001b[0;34m*\u001b[0m\u001b[0margs\u001b[0m\u001b[0;34m,\u001b[0m \u001b[0;34m**\u001b[0m\u001b[0mkwargs\u001b[0m\u001b[0;34m)\u001b[0m\u001b[0;34m\u001b[0m\u001b[0;34m\u001b[0m\u001b[0m\n\u001b[0m\u001b[1;32m     65\u001b[0m     \u001b[0;32mexcept\u001b[0m \u001b[0mException\u001b[0m \u001b[0;32mas\u001b[0m \u001b[0me\u001b[0m\u001b[0;34m:\u001b[0m  \u001b[0;31m# pylint: disable=broad-except\u001b[0m\u001b[0;34m\u001b[0m\u001b[0;34m\u001b[0m\u001b[0m\n\u001b[1;32m     66\u001b[0m       \u001b[0mfiltered_tb\u001b[0m \u001b[0;34m=\u001b[0m \u001b[0m_process_traceback_frames\u001b[0m\u001b[0;34m(\u001b[0m\u001b[0me\u001b[0m\u001b[0;34m.\u001b[0m\u001b[0m__traceback__\u001b[0m\u001b[0;34m)\u001b[0m\u001b[0;34m\u001b[0m\u001b[0;34m\u001b[0m\u001b[0m\n",
            "\u001b[0;32m/usr/local/lib/python3.7/dist-packages/keras/engine/training.py\u001b[0m in \u001b[0;36mfit\u001b[0;34m(self, x, y, batch_size, epochs, verbose, callbacks, validation_split, validation_data, shuffle, class_weight, sample_weight, initial_epoch, steps_per_epoch, validation_steps, validation_batch_size, validation_freq, max_queue_size, workers, use_multiprocessing)\u001b[0m\n\u001b[1;32m   1407\u001b[0m                 _r=1):\n\u001b[1;32m   1408\u001b[0m               \u001b[0mcallbacks\u001b[0m\u001b[0;34m.\u001b[0m\u001b[0mon_train_batch_begin\u001b[0m\u001b[0;34m(\u001b[0m\u001b[0mstep\u001b[0m\u001b[0;34m)\u001b[0m\u001b[0;34m\u001b[0m\u001b[0;34m\u001b[0m\u001b[0m\n\u001b[0;32m-> 1409\u001b[0;31m               \u001b[0mtmp_logs\u001b[0m \u001b[0;34m=\u001b[0m \u001b[0mself\u001b[0m\u001b[0;34m.\u001b[0m\u001b[0mtrain_function\u001b[0m\u001b[0;34m(\u001b[0m\u001b[0miterator\u001b[0m\u001b[0;34m)\u001b[0m\u001b[0;34m\u001b[0m\u001b[0;34m\u001b[0m\u001b[0m\n\u001b[0m\u001b[1;32m   1410\u001b[0m               \u001b[0;32mif\u001b[0m \u001b[0mdata_handler\u001b[0m\u001b[0;34m.\u001b[0m\u001b[0mshould_sync\u001b[0m\u001b[0;34m:\u001b[0m\u001b[0;34m\u001b[0m\u001b[0;34m\u001b[0m\u001b[0m\n\u001b[1;32m   1411\u001b[0m                 \u001b[0mcontext\u001b[0m\u001b[0;34m.\u001b[0m\u001b[0masync_wait\u001b[0m\u001b[0;34m(\u001b[0m\u001b[0;34m)\u001b[0m\u001b[0;34m\u001b[0m\u001b[0;34m\u001b[0m\u001b[0m\n",
            "\u001b[0;32m/usr/local/lib/python3.7/dist-packages/tensorflow/python/util/traceback_utils.py\u001b[0m in \u001b[0;36merror_handler\u001b[0;34m(*args, **kwargs)\u001b[0m\n\u001b[1;32m    148\u001b[0m     \u001b[0mfiltered_tb\u001b[0m \u001b[0;34m=\u001b[0m \u001b[0;32mNone\u001b[0m\u001b[0;34m\u001b[0m\u001b[0;34m\u001b[0m\u001b[0m\n\u001b[1;32m    149\u001b[0m     \u001b[0;32mtry\u001b[0m\u001b[0;34m:\u001b[0m\u001b[0;34m\u001b[0m\u001b[0;34m\u001b[0m\u001b[0m\n\u001b[0;32m--> 150\u001b[0;31m       \u001b[0;32mreturn\u001b[0m \u001b[0mfn\u001b[0m\u001b[0;34m(\u001b[0m\u001b[0;34m*\u001b[0m\u001b[0margs\u001b[0m\u001b[0;34m,\u001b[0m \u001b[0;34m**\u001b[0m\u001b[0mkwargs\u001b[0m\u001b[0;34m)\u001b[0m\u001b[0;34m\u001b[0m\u001b[0;34m\u001b[0m\u001b[0m\n\u001b[0m\u001b[1;32m    151\u001b[0m     \u001b[0;32mexcept\u001b[0m \u001b[0mException\u001b[0m \u001b[0;32mas\u001b[0m \u001b[0me\u001b[0m\u001b[0;34m:\u001b[0m\u001b[0;34m\u001b[0m\u001b[0;34m\u001b[0m\u001b[0m\n\u001b[1;32m    152\u001b[0m       \u001b[0mfiltered_tb\u001b[0m \u001b[0;34m=\u001b[0m \u001b[0m_process_traceback_frames\u001b[0m\u001b[0;34m(\u001b[0m\u001b[0me\u001b[0m\u001b[0;34m.\u001b[0m\u001b[0m__traceback__\u001b[0m\u001b[0;34m)\u001b[0m\u001b[0;34m\u001b[0m\u001b[0;34m\u001b[0m\u001b[0m\n",
            "\u001b[0;32m/usr/local/lib/python3.7/dist-packages/tensorflow/python/eager/def_function.py\u001b[0m in \u001b[0;36m__call__\u001b[0;34m(self, *args, **kwds)\u001b[0m\n\u001b[1;32m    913\u001b[0m \u001b[0;34m\u001b[0m\u001b[0m\n\u001b[1;32m    914\u001b[0m       \u001b[0;32mwith\u001b[0m \u001b[0mOptionalXlaContext\u001b[0m\u001b[0;34m(\u001b[0m\u001b[0mself\u001b[0m\u001b[0;34m.\u001b[0m\u001b[0m_jit_compile\u001b[0m\u001b[0;34m)\u001b[0m\u001b[0;34m:\u001b[0m\u001b[0;34m\u001b[0m\u001b[0;34m\u001b[0m\u001b[0m\n\u001b[0;32m--> 915\u001b[0;31m         \u001b[0mresult\u001b[0m \u001b[0;34m=\u001b[0m \u001b[0mself\u001b[0m\u001b[0;34m.\u001b[0m\u001b[0m_call\u001b[0m\u001b[0;34m(\u001b[0m\u001b[0;34m*\u001b[0m\u001b[0margs\u001b[0m\u001b[0;34m,\u001b[0m \u001b[0;34m**\u001b[0m\u001b[0mkwds\u001b[0m\u001b[0;34m)\u001b[0m\u001b[0;34m\u001b[0m\u001b[0;34m\u001b[0m\u001b[0m\n\u001b[0m\u001b[1;32m    916\u001b[0m \u001b[0;34m\u001b[0m\u001b[0m\n\u001b[1;32m    917\u001b[0m       \u001b[0mnew_tracing_count\u001b[0m \u001b[0;34m=\u001b[0m \u001b[0mself\u001b[0m\u001b[0;34m.\u001b[0m\u001b[0mexperimental_get_tracing_count\u001b[0m\u001b[0;34m(\u001b[0m\u001b[0;34m)\u001b[0m\u001b[0;34m\u001b[0m\u001b[0;34m\u001b[0m\u001b[0m\n",
            "\u001b[0;32m/usr/local/lib/python3.7/dist-packages/tensorflow/python/eager/def_function.py\u001b[0m in \u001b[0;36m_call\u001b[0;34m(self, *args, **kwds)\u001b[0m\n\u001b[1;32m    945\u001b[0m       \u001b[0;31m# In this case we have created variables on the first call, so we run the\u001b[0m\u001b[0;34m\u001b[0m\u001b[0;34m\u001b[0m\u001b[0;34m\u001b[0m\u001b[0m\n\u001b[1;32m    946\u001b[0m       \u001b[0;31m# defunned version which is guaranteed to never create variables.\u001b[0m\u001b[0;34m\u001b[0m\u001b[0;34m\u001b[0m\u001b[0;34m\u001b[0m\u001b[0m\n\u001b[0;32m--> 947\u001b[0;31m       \u001b[0;32mreturn\u001b[0m \u001b[0mself\u001b[0m\u001b[0;34m.\u001b[0m\u001b[0m_stateless_fn\u001b[0m\u001b[0;34m(\u001b[0m\u001b[0;34m*\u001b[0m\u001b[0margs\u001b[0m\u001b[0;34m,\u001b[0m \u001b[0;34m**\u001b[0m\u001b[0mkwds\u001b[0m\u001b[0;34m)\u001b[0m  \u001b[0;31m# pylint: disable=not-callable\u001b[0m\u001b[0;34m\u001b[0m\u001b[0;34m\u001b[0m\u001b[0m\n\u001b[0m\u001b[1;32m    948\u001b[0m     \u001b[0;32melif\u001b[0m \u001b[0mself\u001b[0m\u001b[0;34m.\u001b[0m\u001b[0m_stateful_fn\u001b[0m \u001b[0;32mis\u001b[0m \u001b[0;32mnot\u001b[0m \u001b[0;32mNone\u001b[0m\u001b[0;34m:\u001b[0m\u001b[0;34m\u001b[0m\u001b[0;34m\u001b[0m\u001b[0m\n\u001b[1;32m    949\u001b[0m       \u001b[0;31m# Release the lock early so that multiple threads can perform the call\u001b[0m\u001b[0;34m\u001b[0m\u001b[0;34m\u001b[0m\u001b[0;34m\u001b[0m\u001b[0m\n",
            "\u001b[0;32m/usr/local/lib/python3.7/dist-packages/tensorflow/python/eager/function.py\u001b[0m in \u001b[0;36m__call__\u001b[0;34m(self, *args, **kwargs)\u001b[0m\n\u001b[1;32m   2452\u001b[0m        filtered_flat_args) = self._maybe_define_function(args, kwargs)\n\u001b[1;32m   2453\u001b[0m     return graph_function._call_flat(\n\u001b[0;32m-> 2454\u001b[0;31m         filtered_flat_args, captured_inputs=graph_function.captured_inputs)  # pylint: disable=protected-access\n\u001b[0m\u001b[1;32m   2455\u001b[0m \u001b[0;34m\u001b[0m\u001b[0m\n\u001b[1;32m   2456\u001b[0m   \u001b[0;34m@\u001b[0m\u001b[0mproperty\u001b[0m\u001b[0;34m\u001b[0m\u001b[0;34m\u001b[0m\u001b[0m\n",
            "\u001b[0;32m/usr/local/lib/python3.7/dist-packages/tensorflow/python/eager/function.py\u001b[0m in \u001b[0;36m_call_flat\u001b[0;34m(self, args, captured_inputs, cancellation_manager)\u001b[0m\n\u001b[1;32m   1859\u001b[0m       \u001b[0;31m# No tape is watching; skip to running the function.\u001b[0m\u001b[0;34m\u001b[0m\u001b[0;34m\u001b[0m\u001b[0;34m\u001b[0m\u001b[0m\n\u001b[1;32m   1860\u001b[0m       return self._build_call_outputs(self._inference_function.call(\n\u001b[0;32m-> 1861\u001b[0;31m           ctx, args, cancellation_manager=cancellation_manager))\n\u001b[0m\u001b[1;32m   1862\u001b[0m     forward_backward = self._select_forward_and_backward_functions(\n\u001b[1;32m   1863\u001b[0m         \u001b[0margs\u001b[0m\u001b[0;34m,\u001b[0m\u001b[0;34m\u001b[0m\u001b[0;34m\u001b[0m\u001b[0m\n",
            "\u001b[0;32m/usr/local/lib/python3.7/dist-packages/tensorflow/python/eager/function.py\u001b[0m in \u001b[0;36mcall\u001b[0;34m(self, ctx, args, cancellation_manager)\u001b[0m\n\u001b[1;32m    500\u001b[0m               \u001b[0minputs\u001b[0m\u001b[0;34m=\u001b[0m\u001b[0margs\u001b[0m\u001b[0;34m,\u001b[0m\u001b[0;34m\u001b[0m\u001b[0;34m\u001b[0m\u001b[0m\n\u001b[1;32m    501\u001b[0m               \u001b[0mattrs\u001b[0m\u001b[0;34m=\u001b[0m\u001b[0mattrs\u001b[0m\u001b[0;34m,\u001b[0m\u001b[0;34m\u001b[0m\u001b[0;34m\u001b[0m\u001b[0m\n\u001b[0;32m--> 502\u001b[0;31m               ctx=ctx)\n\u001b[0m\u001b[1;32m    503\u001b[0m         \u001b[0;32melse\u001b[0m\u001b[0;34m:\u001b[0m\u001b[0;34m\u001b[0m\u001b[0;34m\u001b[0m\u001b[0m\n\u001b[1;32m    504\u001b[0m           outputs = execute.execute_with_cancellation(\n",
            "\u001b[0;32m/usr/local/lib/python3.7/dist-packages/tensorflow/python/eager/execute.py\u001b[0m in \u001b[0;36mquick_execute\u001b[0;34m(op_name, num_outputs, inputs, attrs, ctx, name)\u001b[0m\n\u001b[1;32m     53\u001b[0m     \u001b[0mctx\u001b[0m\u001b[0;34m.\u001b[0m\u001b[0mensure_initialized\u001b[0m\u001b[0;34m(\u001b[0m\u001b[0;34m)\u001b[0m\u001b[0;34m\u001b[0m\u001b[0;34m\u001b[0m\u001b[0m\n\u001b[1;32m     54\u001b[0m     tensors = pywrap_tfe.TFE_Py_Execute(ctx._handle, device_name, op_name,\n\u001b[0;32m---> 55\u001b[0;31m                                         inputs, attrs, num_outputs)\n\u001b[0m\u001b[1;32m     56\u001b[0m   \u001b[0;32mexcept\u001b[0m \u001b[0mcore\u001b[0m\u001b[0;34m.\u001b[0m\u001b[0m_NotOkStatusException\u001b[0m \u001b[0;32mas\u001b[0m \u001b[0me\u001b[0m\u001b[0;34m:\u001b[0m\u001b[0;34m\u001b[0m\u001b[0;34m\u001b[0m\u001b[0m\n\u001b[1;32m     57\u001b[0m     \u001b[0;32mif\u001b[0m \u001b[0mname\u001b[0m \u001b[0;32mis\u001b[0m \u001b[0;32mnot\u001b[0m \u001b[0;32mNone\u001b[0m\u001b[0;34m:\u001b[0m\u001b[0;34m\u001b[0m\u001b[0;34m\u001b[0m\u001b[0m\n",
            "\u001b[0;31mKeyboardInterrupt\u001b[0m: "
          ]
        }
      ],
      "source": [
        "# # fit model\n",
        "# model.fit(seq_in, seq_out, epochs=100, verbose=0)"
      ]
    },
    {
      "cell_type": "code",
      "execution_count": null,
      "metadata": {
        "colab": {
          "base_uri": "https://localhost:8080/"
        },
        "id": "gPybh7BtUPhs",
        "outputId": "c3d33b35-32a1-405a-ba64-a46a2e86730c"
      },
      "outputs": [
        {
          "name": "stdout",
          "output_type": "stream",
          "text": [
            "1/1 [==============================] - 1s 674ms/step\n",
            "[[[ 4.126034 ]\n",
            "  [ 5.9562163]\n",
            "  [ 8.064974 ]]\n",
            "\n",
            " [[ 4.1148524]\n",
            "  [ 8.450545 ]\n",
            "  [13.023504 ]]]\n"
          ]
        }
      ],
      "source": [
        "# # demonstrate prediction\n",
        "# test_seq = array([[1, 2, 1, 30, 100, 0, 0], [2, 4, 2, 60, 0, 0, 100]])\n",
        "# test_seq = test_seq.reshape((2, 1, 7))\n",
        "# yhat = model.predict(test_seq)\n",
        "# print(yhat)"
      ]
    },
    {
      "cell_type": "code",
      "execution_count": null,
      "metadata": {
        "id": "VswLAROOfEFx"
      },
      "outputs": [],
      "source": [
        "import matplotlib.pyplot as plt\n",
        "import numpy as np\n",
        "import pandas as pd\n",
        "import tensorflow as tf\n",
        "\n",
        "from sklearn.metrics import accuracy_score, precision_score, recall_score\n",
        "from sklearn.model_selection import train_test_split\n",
        "from tensorflow.keras import layers, losses\n",
        "from tensorflow.keras.datasets import fashion_mnist\n",
        "from tensorflow.keras.models import Model\n",
        "\n",
        "class Autoencoder(Model):\n",
        "  def __init__(self, input_dim, out_dim):\n",
        "    super(Autoencoder, self).__init__()\n",
        "    self.input_dim = input_dim   \n",
        "    self.out_dim = out_dim\n",
        "    self.encoder = tf.keras.Sequential([\n",
        "      layers.Flatten(),\n",
        "      layers.Dense(self.input_dim, activation='relu'),\n",
        "      layers.Dense(4, activation='relu'),\n",
        "      layers.Dense(8, activation='relu'),\n",
        "      layers.Dense(16, activation='relu')\n",
        "    ])\n",
        "    self.decoder = tf.keras.Sequential([\n",
        "      layers.Dense(32, activation='relu'),\n",
        "      layers.Dense(64, activation='relu'),\n",
        "      layers.Dense(self.out_dim, activation='relu'),\n",
        "      layers.Dense(self.out_dim, activation='sigmoid'),\n",
        "      layers.Reshape((1, self.out_dim))\n",
        "    ])\n",
        "  def call(self, x):\n",
        "    encoded = self.encoder(x)\n",
        "    decoded = self.decoder(encoded)\n",
        "    return decoded\n",
        "\n",
        "autoencoder = Autoencoder(4, y_train.shape[1])\n"
      ]
    },
    {
      "cell_type": "code",
      "execution_count": null,
      "metadata": {
        "id": "GYf7LuaZpm5J"
      },
      "outputs": [],
      "source": [
        "autoencoder.compile(optimizer='adam', loss=losses.MeanSquaredError())"
      ]
    },
    {
      "cell_type": "code",
      "execution_count": null,
      "metadata": {
        "colab": {
          "base_uri": "https://localhost:8080/"
        },
        "id": "1A4eNJG0pwTW",
        "outputId": "bb4cd827-c0c8-4da7-e415-06a12f6556cb"
      },
      "outputs": [
        {
          "name": "stdout",
          "output_type": "stream",
          "text": [
            "Epoch 1/100\n",
            "6/6 [==============================] - 1s 23ms/step - loss: 0.1196\n",
            "Epoch 2/100\n",
            "6/6 [==============================] - 0s 23ms/step - loss: 0.0062\n",
            "Epoch 3/100\n",
            "6/6 [==============================] - 0s 26ms/step - loss: 0.0062\n",
            "Epoch 4/100\n",
            "6/6 [==============================] - 0s 26ms/step - loss: 0.0062\n",
            "Epoch 5/100\n",
            "6/6 [==============================] - 0s 24ms/step - loss: 0.0062\n",
            "Epoch 6/100\n",
            "6/6 [==============================] - 0s 24ms/step - loss: 0.0062\n",
            "Epoch 7/100\n",
            "6/6 [==============================] - 0s 28ms/step - loss: 0.0062\n",
            "Epoch 8/100\n",
            "6/6 [==============================] - 0s 32ms/step - loss: 0.0062\n",
            "Epoch 9/100\n",
            "6/6 [==============================] - 0s 37ms/step - loss: 0.0062\n",
            "Epoch 10/100\n",
            "6/6 [==============================] - 0s 45ms/step - loss: 0.0062\n",
            "Epoch 11/100\n",
            "6/6 [==============================] - 0s 42ms/step - loss: 0.0062\n",
            "Epoch 12/100\n",
            "6/6 [==============================] - 0s 43ms/step - loss: 0.0062\n",
            "Epoch 13/100\n",
            "6/6 [==============================] - 0s 42ms/step - loss: 0.0062\n",
            "Epoch 14/100\n",
            "6/6 [==============================] - 0s 43ms/step - loss: 0.0062\n",
            "Epoch 15/100\n",
            "6/6 [==============================] - 0s 42ms/step - loss: 0.0062\n",
            "Epoch 16/100\n",
            "6/6 [==============================] - 0s 40ms/step - loss: 0.0062\n",
            "Epoch 17/100\n",
            "6/6 [==============================] - 0s 42ms/step - loss: 0.0062\n",
            "Epoch 18/100\n",
            "6/6 [==============================] - 0s 42ms/step - loss: 0.0062\n",
            "Epoch 19/100\n",
            "6/6 [==============================] - 0s 43ms/step - loss: 0.0062\n",
            "Epoch 20/100\n",
            "6/6 [==============================] - 0s 34ms/step - loss: 0.0062\n",
            "Epoch 21/100\n",
            "6/6 [==============================] - 0s 26ms/step - loss: 0.0062\n",
            "Epoch 22/100\n",
            "6/6 [==============================] - 0s 23ms/step - loss: 0.0062\n",
            "Epoch 23/100\n",
            "6/6 [==============================] - 0s 23ms/step - loss: 0.0062\n",
            "Epoch 24/100\n",
            "6/6 [==============================] - 0s 22ms/step - loss: 0.0062\n",
            "Epoch 25/100\n",
            "6/6 [==============================] - 0s 24ms/step - loss: 0.0062\n",
            "Epoch 26/100\n",
            "6/6 [==============================] - 0s 29ms/step - loss: 0.0062\n",
            "Epoch 27/100\n",
            "6/6 [==============================] - 0s 25ms/step - loss: 0.0062\n",
            "Epoch 28/100\n",
            "6/6 [==============================] - 0s 26ms/step - loss: 0.0062\n",
            "Epoch 29/100\n",
            "6/6 [==============================] - 0s 24ms/step - loss: 0.0062\n",
            "Epoch 30/100\n",
            "6/6 [==============================] - 0s 24ms/step - loss: 0.0062\n",
            "Epoch 31/100\n",
            "6/6 [==============================] - 0s 27ms/step - loss: 0.0062\n",
            "Epoch 32/100\n",
            "6/6 [==============================] - 0s 29ms/step - loss: 0.0062\n",
            "Epoch 33/100\n",
            "6/6 [==============================] - 0s 24ms/step - loss: 0.0062\n",
            "Epoch 34/100\n",
            "6/6 [==============================] - 0s 28ms/step - loss: 0.0062\n",
            "Epoch 35/100\n",
            "6/6 [==============================] - 0s 25ms/step - loss: 0.0062\n",
            "Epoch 36/100\n",
            "6/6 [==============================] - 0s 26ms/step - loss: 0.0062\n",
            "Epoch 37/100\n",
            "6/6 [==============================] - 0s 26ms/step - loss: 0.0062\n",
            "Epoch 38/100\n",
            "6/6 [==============================] - 0s 28ms/step - loss: 0.0062\n",
            "Epoch 39/100\n",
            "6/6 [==============================] - 0s 25ms/step - loss: 0.0062\n",
            "Epoch 40/100\n",
            "6/6 [==============================] - 0s 28ms/step - loss: 0.0062\n",
            "Epoch 41/100\n",
            "6/6 [==============================] - 0s 24ms/step - loss: 0.0062\n",
            "Epoch 42/100\n",
            "6/6 [==============================] - 0s 27ms/step - loss: 0.0062\n",
            "Epoch 43/100\n",
            "6/6 [==============================] - 0s 24ms/step - loss: 0.0062\n",
            "Epoch 44/100\n",
            "6/6 [==============================] - 0s 24ms/step - loss: 0.0062\n",
            "Epoch 45/100\n",
            "6/6 [==============================] - 0s 30ms/step - loss: 0.0062\n",
            "Epoch 46/100\n",
            "6/6 [==============================] - 0s 23ms/step - loss: 0.0062\n",
            "Epoch 47/100\n",
            "6/6 [==============================] - 0s 23ms/step - loss: 0.0062\n",
            "Epoch 48/100\n",
            "6/6 [==============================] - 0s 26ms/step - loss: 0.0062\n",
            "Epoch 49/100\n",
            "6/6 [==============================] - 0s 28ms/step - loss: 0.0062\n",
            "Epoch 50/100\n",
            "6/6 [==============================] - 0s 24ms/step - loss: 0.0062\n",
            "Epoch 51/100\n",
            "6/6 [==============================] - 0s 27ms/step - loss: 0.0062\n",
            "Epoch 52/100\n",
            "6/6 [==============================] - 0s 25ms/step - loss: 0.0062\n",
            "Epoch 53/100\n",
            "6/6 [==============================] - 0s 24ms/step - loss: 0.0062\n",
            "Epoch 54/100\n",
            "6/6 [==============================] - 0s 24ms/step - loss: 0.0062\n",
            "Epoch 55/100\n",
            "6/6 [==============================] - 0s 25ms/step - loss: 0.0062\n",
            "Epoch 56/100\n",
            "6/6 [==============================] - 0s 23ms/step - loss: 0.0062\n",
            "Epoch 57/100\n",
            "6/6 [==============================] - 0s 26ms/step - loss: 0.0062\n",
            "Epoch 58/100\n",
            "6/6 [==============================] - 0s 25ms/step - loss: 0.0062\n",
            "Epoch 59/100\n",
            "6/6 [==============================] - 0s 25ms/step - loss: 0.0062\n",
            "Epoch 60/100\n",
            "6/6 [==============================] - 0s 25ms/step - loss: 0.0062\n",
            "Epoch 61/100\n",
            "6/6 [==============================] - 0s 25ms/step - loss: 0.0062\n",
            "Epoch 62/100\n",
            "6/6 [==============================] - 0s 26ms/step - loss: 0.0062\n",
            "Epoch 63/100\n",
            "6/6 [==============================] - 0s 26ms/step - loss: 0.0062\n",
            "Epoch 64/100\n",
            "6/6 [==============================] - 0s 31ms/step - loss: 0.0062\n",
            "Epoch 65/100\n",
            "6/6 [==============================] - 0s 28ms/step - loss: 0.0062\n",
            "Epoch 66/100\n",
            "6/6 [==============================] - 0s 26ms/step - loss: 0.0062\n",
            "Epoch 67/100\n",
            "6/6 [==============================] - 0s 26ms/step - loss: 0.0062\n",
            "Epoch 68/100\n",
            "6/6 [==============================] - 0s 34ms/step - loss: 0.0062\n",
            "Epoch 69/100\n",
            "6/6 [==============================] - 0s 24ms/step - loss: 0.0062\n",
            "Epoch 70/100\n",
            "6/6 [==============================] - 0s 29ms/step - loss: 0.0062\n",
            "Epoch 71/100\n",
            "6/6 [==============================] - 0s 25ms/step - loss: 0.0062\n",
            "Epoch 72/100\n",
            "6/6 [==============================] - 0s 27ms/step - loss: 0.0062\n",
            "Epoch 73/100\n",
            "6/6 [==============================] - 0s 24ms/step - loss: 0.0062\n",
            "Epoch 74/100\n",
            "6/6 [==============================] - 0s 25ms/step - loss: 0.0062\n",
            "Epoch 75/100\n",
            "6/6 [==============================] - 0s 23ms/step - loss: 0.0062\n",
            "Epoch 76/100\n",
            "6/6 [==============================] - 0s 28ms/step - loss: 0.0062\n",
            "Epoch 77/100\n",
            "6/6 [==============================] - 0s 24ms/step - loss: 0.0062\n",
            "Epoch 78/100\n",
            "6/6 [==============================] - 0s 26ms/step - loss: 0.0062\n",
            "Epoch 79/100\n",
            "6/6 [==============================] - 0s 25ms/step - loss: 0.0062\n",
            "Epoch 80/100\n",
            "6/6 [==============================] - 0s 26ms/step - loss: 0.0062\n",
            "Epoch 81/100\n",
            "6/6 [==============================] - 0s 22ms/step - loss: 0.0062\n",
            "Epoch 82/100\n",
            "6/6 [==============================] - 0s 28ms/step - loss: 0.0062\n",
            "Epoch 83/100\n",
            "6/6 [==============================] - 0s 24ms/step - loss: 0.0062\n",
            "Epoch 84/100\n",
            "6/6 [==============================] - 0s 25ms/step - loss: 0.0062\n",
            "Epoch 85/100\n",
            "6/6 [==============================] - 0s 26ms/step - loss: 0.0062\n",
            "Epoch 86/100\n",
            "6/6 [==============================] - 0s 24ms/step - loss: 0.0062\n",
            "Epoch 87/100\n",
            "6/6 [==============================] - 0s 24ms/step - loss: 0.0062\n",
            "Epoch 88/100\n",
            "6/6 [==============================] - 0s 25ms/step - loss: 0.0062\n",
            "Epoch 89/100\n",
            "6/6 [==============================] - 0s 28ms/step - loss: 0.0062\n",
            "Epoch 90/100\n",
            "6/6 [==============================] - 0s 24ms/step - loss: 0.0062\n",
            "Epoch 91/100\n",
            "6/6 [==============================] - 0s 25ms/step - loss: 0.0062\n",
            "Epoch 92/100\n",
            "6/6 [==============================] - 0s 23ms/step - loss: 0.0062\n",
            "Epoch 93/100\n",
            "6/6 [==============================] - 0s 25ms/step - loss: 0.0062\n",
            "Epoch 94/100\n",
            "6/6 [==============================] - 0s 25ms/step - loss: 0.0062\n",
            "Epoch 95/100\n",
            "6/6 [==============================] - 0s 26ms/step - loss: 0.0062\n",
            "Epoch 96/100\n",
            "6/6 [==============================] - 0s 23ms/step - loss: 0.0062\n",
            "Epoch 97/100\n",
            "6/6 [==============================] - 0s 27ms/step - loss: 0.0062\n",
            "Epoch 98/100\n",
            "6/6 [==============================] - 0s 24ms/step - loss: 0.0062\n",
            "Epoch 99/100\n",
            "6/6 [==============================] - 0s 26ms/step - loss: 0.0062\n",
            "Epoch 100/100\n",
            "6/6 [==============================] - 0s 23ms/step - loss: 0.0062\n"
          ]
        },
        {
          "data": {
            "text/plain": [
              "<keras.callbacks.History at 0x7f9da68ce750>"
            ]
          },
          "execution_count": 54,
          "metadata": {},
          "output_type": "execute_result"
        }
      ],
      "source": [
        "autoencoder.fit(seq_in, seq_out, epochs=100)"
      ]
    },
    {
      "cell_type": "code",
      "execution_count": null,
      "metadata": {
        "colab": {
          "base_uri": "https://localhost:8080/"
        },
        "id": "Sn-thC2yp9KQ",
        "outputId": "74ef33f0-b6e5-4ff4-ac64-deea107fca3a"
      },
      "outputs": [
        {
          "name": "stderr",
          "output_type": "stream",
          "text": [
            "WARNING:tensorflow:Model was constructed with shape (None, 1, 4) for input KerasTensor(type_spec=TensorSpec(shape=(None, 1, 4), dtype=tf.int64, name='flatten_7_input'), name='flatten_7_input', description=\"created by layer 'flatten_7_input'\"), but it was called on an input with incompatible shape (None, 4).\n",
            "WARNING:tensorflow:6 out of the last 9 calls to <function Model.make_predict_function.<locals>.predict_function at 0x7f9dade14c20> triggered tf.function retracing. Tracing is expensive and the excessive number of tracings could be due to (1) creating @tf.function repeatedly in a loop, (2) passing tensors with different shapes, (3) passing Python objects instead of tensors. For (1), please define your @tf.function outside of the loop. For (2), @tf.function has reduce_retracing=True option that can avoid unnecessary retracing. For (3), please refer to https://www.tensorflow.org/guide/function#controlling_retracing and https://www.tensorflow.org/api_docs/python/tf/function for  more details.\n"
          ]
        },
        {
          "name": "stdout",
          "output_type": "stream",
          "text": [
            "1/1 [==============================] - 0s 240ms/step\n",
            "[7.4612617e-06 5.4262667e-03 1.7794378e-05 ... 9.1015565e-05 1.3329939e-06\n",
            " 1.5457798e-04]\n",
            "Top:\n",
            "[ 821 1032  622 1097 1058]\n",
            "79212820365\n",
            "79220423921\n",
            "79214193009\n",
            "79210053534\n",
            "79220462284\n"
          ]
        }
      ],
      "source": [
        "# test_seq = array([[1, 2, 1, 30, 100, 0, 0], [2, 4, 2, 60, 0, 0, 100]])\n",
        "# X_test = X_test.to_numpy()\n",
        "# X_test = X_test.reshape((1, 1, 4))\n",
        "yhat = autoencoder.predict(X_test)\n",
        "yhat = yhat[0][0]\n",
        "print(yhat)\n",
        "print(\"Top:\")\n",
        "print(np.argpartition(yhat, -5)[-5:])\n",
        "ids = list(np.argpartition(yhat, -5)[-5:])\n",
        "for i in ids:\n",
        "  print(list(y_test.columns)[i])"
      ]
    },
    {
      "cell_type": "code",
      "execution_count": null,
      "metadata": {
        "id": "6iEJWpm3mFny"
      },
      "outputs": [],
      "source": [
        "autoencoder.save(\"var2.ckpt\")"
      ]
    },
    {
      "cell_type": "code",
      "execution_count": null,
      "metadata": {
        "colab": {
          "base_uri": "https://localhost:8080/"
        },
        "id": "EiJbQ768rHNj",
        "outputId": "f2330756-ecf2-4422-9217-8951fcc186a7"
      },
      "outputs": [
        {
          "data": {
            "text/plain": [
              "<tensorflow.python.training.tracking.util.CheckpointLoadStatus at 0x7f9da3c98910>"
            ]
          },
          "execution_count": 58,
          "metadata": {},
          "output_type": "execute_result"
        }
      ],
      "source": [
        "model = Autoencoder(4, y_test.shape[1])\n",
        "model.load_weights(\"var2.ckpt\")"
      ]
    },
    {
      "cell_type": "code",
      "execution_count": null,
      "metadata": {
        "colab": {
          "base_uri": "https://localhost:8080/"
        },
        "id": "VQzYCFHSS-_j",
        "outputId": "51c3e16a-a67c-4671-f79a-9209ba8f8466"
      },
      "outputs": [
        {
          "name": "stdout",
          "output_type": "stream",
          "text": [
            "False\n"
          ]
        }
      ],
      "source": [
        "print(0.30292082 > 0.34071162)"
      ]
    },
    {
      "cell_type": "code",
      "execution_count": null,
      "metadata": {
        "colab": {
          "base_uri": "https://localhost:8080/"
        },
        "id": "94nNciBadTBn",
        "outputId": "7ed0030a-a04b-48bf-97f3-a54a8ddd9f92"
      },
      "outputs": [
        {
          "name": "stdout",
          "output_type": "stream",
          "text": [
            "keras                         2.9.0\n",
            "keras-vis                     0.4.1\n"
          ]
        }
      ],
      "source": [
        "!pip list | grep keras"
      ]
    },
    {
      "cell_type": "code",
      "execution_count": null,
      "metadata": {
        "colab": {
          "base_uri": "https://localhost:8080/"
        },
        "id": "6C_wrLLNrGrX",
        "outputId": "df0e5b51-64ea-442b-a2f4-d0bc91ad6713"
      },
      "outputs": [
        {
          "data": {
            "text/plain": [
              "<tensorflow.python.training.tracking.util.CheckpointLoadStatus at 0x7f9da639f450>"
            ]
          },
          "execution_count": 36,
          "metadata": {},
          "output_type": "execute_result"
        }
      ],
      "source": [
        "import numpy as np\n",
        "import pandas as pd\n",
        "import tensorflow as tf\n",
        "from tensorflow.keras import layers, losses\n",
        "from tensorflow.keras.datasets import fashion_mnist\n",
        "from tensorflow.keras.models import Model\n",
        "\n",
        "class Autoencoder(Model):\n",
        "  def __init__(self, input_dim, out_dim):\n",
        "    super(Autoencoder, self).__init__()\n",
        "    self.input_dim = input_dim   \n",
        "    self.out_dim = out_dim\n",
        "    self.encoder = tf.keras.Sequential([\n",
        "      layers.Flatten(),\n",
        "      layers.Dense(self.input_dim, activation='relu'),\n",
        "      layers.Dense(4, activation='relu'),\n",
        "      layers.Dense(8, activation='relu'),\n",
        "      layers.Dense(16, activation='relu')\n",
        "    ])\n",
        "    self.decoder = tf.keras.Sequential([\n",
        "      layers.Dense(32, activation='relu'),\n",
        "      layers.Dense(64, activation='relu'),\n",
        "      layers.Dense(self.out_dim, activation='relu'),\n",
        "      layers.Dense(self.out_dim, activation='sigmoid'),\n",
        "      layers.Reshape((1, self.out_dim))\n",
        "    ])\n",
        "  def call(self, x):\n",
        "    encoded = self.encoder(x)\n",
        "    decoded = self.decoder(encoded)\n",
        "    return decoded\n",
        "\n",
        "model = Autoencoder(4, 71)\n",
        "model.load_weights(\"var1.ckpt\")"
      ]
    },
    {
      "cell_type": "code",
      "execution_count": null,
      "metadata": {
        "colab": {
          "base_uri": "https://localhost:8080/",
          "height": 34
        },
        "id": "AIJ04vV_tSvv",
        "outputId": "847dbff3-e011-4d24-88d9-2a9e9bed1a8f"
      },
      "outputs": [
        {
          "data": {
            "application/javascript": "\n    async function download(id, filename, size) {\n      if (!google.colab.kernel.accessAllowed) {\n        return;\n      }\n      const div = document.createElement('div');\n      const label = document.createElement('label');\n      label.textContent = `Downloading \"${filename}\": `;\n      div.appendChild(label);\n      const progress = document.createElement('progress');\n      progress.max = size;\n      div.appendChild(progress);\n      document.body.appendChild(div);\n\n      const buffers = [];\n      let downloaded = 0;\n\n      const channel = await google.colab.kernel.comms.open(id);\n      // Send a message to notify the kernel that we're ready.\n      channel.send({})\n\n      for await (const message of channel.messages) {\n        // Send a message to notify the kernel that we're ready.\n        channel.send({})\n        if (message.buffers) {\n          for (const buffer of message.buffers) {\n            buffers.push(buffer);\n            downloaded += buffer.byteLength;\n            progress.value = downloaded;\n          }\n        }\n      }\n      const blob = new Blob(buffers, {type: 'application/binary'});\n      const a = document.createElement('a');\n      a.href = window.URL.createObjectURL(blob);\n      a.download = filename;\n      div.appendChild(a);\n      a.click();\n      div.remove();\n    }\n  ",
            "text/plain": [
              "<IPython.core.display.Javascript object>"
            ]
          },
          "metadata": {},
          "output_type": "display_data"
        },
        {
          "data": {
            "application/javascript": "download(\"download_0faf6a01-d361-417a-a928-783e32c56852\", \"var1.ckpt\", 4096)",
            "text/plain": [
              "<IPython.core.display.Javascript object>"
            ]
          },
          "metadata": {},
          "output_type": "display_data"
        }
      ],
      "source": [
        "from google.colab import files\n",
        "files.download(\"/content/var1.ckpt\")"
      ]
    },
    {
      "cell_type": "code",
      "execution_count": null,
      "metadata": {
        "id": "_XC8Cs1Q1LmJ"
      },
      "outputs": [],
      "source": []
    }
  ],
  "metadata": {
    "colab": {
      "collapsed_sections": [],
      "provenance": []
    },
    "kernelspec": {
      "display_name": "Python 3.8.2 64-bit",
      "language": "python",
      "name": "python3"
    },
    "language_info": {
      "codemirror_mode": {
        "name": "ipython",
        "version": 3
      },
      "file_extension": ".py",
      "mimetype": "text/x-python",
      "name": "python",
      "nbconvert_exporter": "python",
      "pygments_lexer": "ipython3",
      "version": "3.8.2"
    },
    "vscode": {
      "interpreter": {
        "hash": "faf0db93df934f661a5609ab24f310c9b49be262d2875ed44eafb59e252ad9e2"
      }
    }
  },
  "nbformat": 4,
  "nbformat_minor": 0
}
